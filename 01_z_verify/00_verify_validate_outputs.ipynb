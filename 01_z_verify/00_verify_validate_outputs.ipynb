{
 "cells": [
  {
   "cell_type": "code",
   "execution_count": 1,
   "id": "ee5325c8-afdb-4514-b29f-99954cb7f63e",
   "metadata": {},
   "outputs": [],
   "source": [
    "my_year = '1985'\n"
   ]
  },
  {
   "cell_type": "code",
   "execution_count": 2,
   "id": "82a56f5e-fba1-4e78-b02b-64f2a83274e3",
   "metadata": {},
   "outputs": [],
   "source": [
    "#! ls /efs/timesync/1984/audit\n",
    "from tqdm import tqdm"
   ]
  },
  {
   "cell_type": "code",
   "execution_count": 3,
   "id": "65ca9b18-af4f-4861-8f70-bece7c86b28b",
   "metadata": {},
   "outputs": [],
   "source": [
    "import os\n",
    "\n",
    "def list_files_in_directory(directory):\n",
    "    try:\n",
    "        # Get the list of files in the specified directory\n",
    "        files = os.listdir(directory)\n",
    "\n",
    "        # Print or return the list of files\n",
    "        return files\n",
    "\n",
    "    except OSError as e:\n",
    "        print(f\"Error reading directory {directory}: {e}\")\n",
    "        return []\n",
    "\n",
    "\n",
    "\n",
    "# Print the list of files\n",
    "#print(files_in_directory)\n"
   ]
  },
  {
   "cell_type": "code",
   "execution_count": 4,
   "id": "b8fda7d4-8810-4225-8c68-64f6f37c266d",
   "metadata": {},
   "outputs": [],
   "source": [
    "directory_path = f\"/efs/timesync/{my_year}/audit\""
   ]
  },
  {
   "cell_type": "code",
   "execution_count": 5,
   "id": "96777e17-ec80-45ad-8703-7b342dc052b2",
   "metadata": {},
   "outputs": [],
   "source": [
    "# Call the function with the specified directory path\n",
    "files_in_directory = list_files_in_directory(directory_path)"
   ]
  },
  {
   "cell_type": "code",
   "execution_count": 6,
   "id": "02580026-c945-4666-b574-7e0d4e658436",
   "metadata": {},
   "outputs": [
    {
     "data": {
      "text/plain": [
       "['1985_2982_1211_outputs.p',\n",
       " '1985_0489_1211_outputs.p',\n",
       " '1985_4764_1211_outputs.p',\n",
       " '1985_3873_1211_outputs.p',\n",
       " '1985_4926_1211_outputs.p',\n",
       " '1985_3792_1211_outputs.p',\n",
       " '1985_4845_1211_outputs.p',\n",
       " '1985_1299_1211_outputs.p',\n",
       " '1985_4683_1211_outputs.p',\n",
       " '1985_3954_1211_outputs.p']"
      ]
     },
     "execution_count": 6,
     "metadata": {},
     "output_type": "execute_result"
    }
   ],
   "source": [
    "files_in_directory[:10]"
   ]
  },
  {
   "cell_type": "code",
   "execution_count": 7,
   "id": "b0d11238-77cf-45ee-9e26-41d646a35309",
   "metadata": {},
   "outputs": [],
   "source": [
    "import pickle\n",
    "\n",
    "def unpickle_object(file_path):\n",
    "    try:\n",
    "        with open(file_path, 'rb') as file:\n",
    "            # Unpickle the object from the file\n",
    "            unpickled_object = pickle.load(file)\n",
    "            return unpickled_object\n",
    "\n",
    "    except FileNotFoundError:\n",
    "        print(f\"File not found: {file_path}\")\n",
    "        return None\n",
    "\n",
    "    except Exception as e:\n",
    "        print(f\"Error unpickling object: {e}\")\n",
    "        return None\n",
    "\n"
   ]
  },
  {
   "cell_type": "code",
   "execution_count": 8,
   "id": "89c7a3e3-1e59-47ee-9120-39e296d40989",
   "metadata": {},
   "outputs": [],
   "source": [
    "import os\n",
    "\n",
    "def verify_csv_file(file_path):\n",
    "    try:\n",
    "        # Check if the file exists\n",
    "        if not os.path.exists(file_path):\n",
    "            print(f\"File not found: {file_path}\")\n",
    "            return False\n",
    "\n",
    "        # Check if the file has a \".csv\" extension\n",
    "        if not file_path.lower().endswith(\".csv\"):\n",
    "            print(f\"File does not have a .csv extension: {file_path}\")\n",
    "            return False\n",
    "\n",
    "        # If both conditions are met, return True\n",
    "        return True\n",
    "\n",
    "    except Exception as e:\n",
    "        print(f\"Error verifying file: {e}\")\n",
    "        return False\n",
    "\n",
    "def verify_png_file(file_path):\n",
    "    try:\n",
    "        # Check if the file exists\n",
    "        if not os.path.exists(file_path):\n",
    "            print(f\"File not found: {file_path}\")\n",
    "            return False\n",
    "\n",
    "        # Check if the file has a \".csv\" extension\n",
    "        if not file_path.lower().endswith(\".png\"):\n",
    "            print(f\"File does not have a .png extension: {file_path}\")\n",
    "            return False\n",
    "\n",
    "        # If both conditions are met, return True\n",
    "        return True\n",
    "\n",
    "    except Exception as e:\n",
    "        print(f\"Error verifying file: {e}\")\n",
    "        return False\n"
   ]
  },
  {
   "cell_type": "code",
   "execution_count": 9,
   "id": "eb40771b-9f95-4edc-bfb1-0441654da079",
   "metadata": {},
   "outputs": [],
   "source": [
    "def verify_validate(d):\n",
    "    #print(type(d))\n",
    "    cnt = 0\n",
    "    for i in d:\n",
    "        f = i['scsv']\n",
    "        verify_csv_file(f)\n",
    "        ftc = i['tcap']\n",
    "        verify_png_file(ftc)\n",
    "        fb432 = i['b432']\n",
    "        verify_png_file(fb432)\n",
    "        fb743 = i['b432']\n",
    "        verify_png_file(fb743)\n",
    "        #validate(f)\n",
    "        # print(cnt, end=' ', flush=True)\n",
    "        cnt = cnt + 1"
   ]
  },
  {
   "cell_type": "code",
   "execution_count": 10,
   "id": "327ae242-64fe-462b-b187-589aa4136432",
   "metadata": {},
   "outputs": [
    {
     "name": "stderr",
     "output_type": "stream",
     "text": [
      "100%|██████████████████████████████████████████████████████████████████████████████████████████████| 5000/5000 [02:39<00:00, 31.28it/s]\n"
     ]
    }
   ],
   "source": [
    "for i in tqdm(range(0,len(files_in_directory))):\n",
    "    p_file = files_in_directory[i]\n",
    "    full_p_file = f'{directory_path}/{p_file}'\n",
    "    my_file_dict = unpickle_object(full_p_file)\n",
    "    verify_validate(my_file_dict)"
   ]
  },
  {
   "cell_type": "code",
   "execution_count": null,
   "id": "e805e5df-436d-4683-840d-ea70f932c5d5",
   "metadata": {},
   "outputs": [],
   "source": []
  }
 ],
 "metadata": {
  "kernelspec": {
   "display_name": "Python 3 (ipykernel)",
   "language": "python",
   "name": "python3"
  },
  "language_info": {
   "codemirror_mode": {
    "name": "ipython",
    "version": 3
   },
   "file_extension": ".py",
   "mimetype": "text/x-python",
   "name": "python",
   "nbconvert_exporter": "python",
   "pygments_lexer": "ipython3",
   "version": "3.11.7"
  }
 },
 "nbformat": 4,
 "nbformat_minor": 5
}
