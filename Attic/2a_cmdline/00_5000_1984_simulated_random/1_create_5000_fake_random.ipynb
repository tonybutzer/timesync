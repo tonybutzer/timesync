{
 "cells": [
  {
   "cell_type": "code",
   "execution_count": 1,
   "id": "2355f530-e40c-4bab-aa5d-6dfa050dd2ac",
   "metadata": {},
   "outputs": [],
   "source": [
    "import pandas as pd"
   ]
  },
  {
   "cell_type": "code",
   "execution_count": 2,
   "id": "b31741ea-8a23-4003-b33f-76920eb64c49",
   "metadata": {},
   "outputs": [],
   "source": [
    "full_df = pd.read_csv('./lcmap_full_27k_plot_ids.csv')"
   ]
  },
  {
   "cell_type": "code",
   "execution_count": 3,
   "id": "4e5ecd59-9a9f-4fca-8006-8d18866259a6",
   "metadata": {},
   "outputs": [],
   "source": [
    "df = full_df.head(25000)"
   ]
  },
  {
   "cell_type": "code",
   "execution_count": 4,
   "id": "05db21f2-69ad-4bb1-bc64-3eb7327bcd2e",
   "metadata": {},
   "outputs": [
    {
     "data": {
      "text/plain": [
       "(25000, 5)"
      ]
     },
     "execution_count": 4,
     "metadata": {},
     "output_type": "execute_result"
    }
   ],
   "source": [
    "df.shape"
   ]
  },
  {
   "cell_type": "code",
   "execution_count": 5,
   "id": "f1d37e8e-41a7-4a9a-a33b-8172da5367c8",
   "metadata": {},
   "outputs": [],
   "source": [
    "smaller_df = df.iloc[::5]"
   ]
  },
  {
   "cell_type": "code",
   "execution_count": 6,
   "id": "07381c3f-5db0-45bb-97b3-ffdd42805e8f",
   "metadata": {},
   "outputs": [
    {
     "data": {
      "text/plain": [
       "(5000, 5)"
      ]
     },
     "execution_count": 6,
     "metadata": {},
     "output_type": "execute_result"
    }
   ],
   "source": [
    "smaller_df.shape"
   ]
  },
  {
   "cell_type": "code",
   "execution_count": 7,
   "id": "27882a3f-9925-47a6-9d57-5ed9d7c46797",
   "metadata": {},
   "outputs": [
    {
     "data": {
      "text/html": [
       "<div>\n",
       "<style scoped>\n",
       "    .dataframe tbody tr th:only-of-type {\n",
       "        vertical-align: middle;\n",
       "    }\n",
       "\n",
       "    .dataframe tbody tr th {\n",
       "        vertical-align: top;\n",
       "    }\n",
       "\n",
       "    .dataframe thead th {\n",
       "        text-align: right;\n",
       "    }\n",
       "</style>\n",
       "<table border=\"1\" class=\"dataframe\">\n",
       "  <thead>\n",
       "    <tr style=\"text-align: right;\">\n",
       "      <th></th>\n",
       "      <th>plot_id</th>\n",
       "      <th>original_plot_id</th>\n",
       "      <th>x</th>\n",
       "      <th>y</th>\n",
       "      <th>project_id</th>\n",
       "    </tr>\n",
       "  </thead>\n",
       "  <tbody>\n",
       "    <tr>\n",
       "      <th>0</th>\n",
       "      <td>1</td>\n",
       "      <td>1</td>\n",
       "      <td>-1853280</td>\n",
       "      <td>1557720</td>\n",
       "      <td>3130</td>\n",
       "    </tr>\n",
       "    <tr>\n",
       "      <th>5</th>\n",
       "      <td>6</td>\n",
       "      <td>6</td>\n",
       "      <td>413160</td>\n",
       "      <td>729360</td>\n",
       "      <td>3130</td>\n",
       "    </tr>\n",
       "    <tr>\n",
       "      <th>10</th>\n",
       "      <td>11</td>\n",
       "      <td>11</td>\n",
       "      <td>172350</td>\n",
       "      <td>1749900</td>\n",
       "      <td>3130</td>\n",
       "    </tr>\n",
       "    <tr>\n",
       "      <th>15</th>\n",
       "      <td>16</td>\n",
       "      <td>16</td>\n",
       "      <td>1382460</td>\n",
       "      <td>1265190</td>\n",
       "      <td>3130</td>\n",
       "    </tr>\n",
       "    <tr>\n",
       "      <th>20</th>\n",
       "      <td>21</td>\n",
       "      <td>21</td>\n",
       "      <td>-1325100</td>\n",
       "      <td>1043760</td>\n",
       "      <td>3130</td>\n",
       "    </tr>\n",
       "  </tbody>\n",
       "</table>\n",
       "</div>"
      ],
      "text/plain": [
       "    plot_id  original_plot_id        x        y  project_id\n",
       "0         1                 1 -1853280  1557720        3130\n",
       "5         6                 6   413160   729360        3130\n",
       "10       11                11   172350  1749900        3130\n",
       "15       16                16  1382460  1265190        3130\n",
       "20       21                21 -1325100  1043760        3130"
      ]
     },
     "execution_count": 7,
     "metadata": {},
     "output_type": "execute_result"
    }
   ],
   "source": [
    "smaller_df.head()"
   ]
  },
  {
   "cell_type": "code",
   "execution_count": 8,
   "id": "784fc54e-ad5e-47d2-8323-f886a2b31d26",
   "metadata": {},
   "outputs": [
    {
     "data": {
      "text/html": [
       "<div>\n",
       "<style scoped>\n",
       "    .dataframe tbody tr th:only-of-type {\n",
       "        vertical-align: middle;\n",
       "    }\n",
       "\n",
       "    .dataframe tbody tr th {\n",
       "        vertical-align: top;\n",
       "    }\n",
       "\n",
       "    .dataframe thead th {\n",
       "        text-align: right;\n",
       "    }\n",
       "</style>\n",
       "<table border=\"1\" class=\"dataframe\">\n",
       "  <thead>\n",
       "    <tr style=\"text-align: right;\">\n",
       "      <th></th>\n",
       "      <th>plot_id</th>\n",
       "      <th>original_plot_id</th>\n",
       "      <th>x</th>\n",
       "      <th>y</th>\n",
       "      <th>project_id</th>\n",
       "    </tr>\n",
       "  </thead>\n",
       "  <tbody>\n",
       "    <tr>\n",
       "      <th>24975</th>\n",
       "      <td>24976</td>\n",
       "      <td>24976</td>\n",
       "      <td>1369440</td>\n",
       "      <td>2049600</td>\n",
       "      <td>3130</td>\n",
       "    </tr>\n",
       "    <tr>\n",
       "      <th>24980</th>\n",
       "      <td>24981</td>\n",
       "      <td>24981</td>\n",
       "      <td>974190</td>\n",
       "      <td>1610370</td>\n",
       "      <td>3130</td>\n",
       "    </tr>\n",
       "    <tr>\n",
       "      <th>24985</th>\n",
       "      <td>24986</td>\n",
       "      <td>24986</td>\n",
       "      <td>-889320</td>\n",
       "      <td>2579040</td>\n",
       "      <td>3130</td>\n",
       "    </tr>\n",
       "    <tr>\n",
       "      <th>24990</th>\n",
       "      <td>24991</td>\n",
       "      <td>24991</td>\n",
       "      <td>1668180</td>\n",
       "      <td>1651710</td>\n",
       "      <td>3130</td>\n",
       "    </tr>\n",
       "    <tr>\n",
       "      <th>24995</th>\n",
       "      <td>24996</td>\n",
       "      <td>24996</td>\n",
       "      <td>-982140</td>\n",
       "      <td>2025420</td>\n",
       "      <td>3130</td>\n",
       "    </tr>\n",
       "  </tbody>\n",
       "</table>\n",
       "</div>"
      ],
      "text/plain": [
       "       plot_id  original_plot_id        x        y  project_id\n",
       "24975    24976             24976  1369440  2049600        3130\n",
       "24980    24981             24981   974190  1610370        3130\n",
       "24985    24986             24986  -889320  2579040        3130\n",
       "24990    24991             24991  1668180  1651710        3130\n",
       "24995    24996             24996  -982140  2025420        3130"
      ]
     },
     "execution_count": 8,
     "metadata": {},
     "output_type": "execute_result"
    }
   ],
   "source": [
    "smaller_df.tail()"
   ]
  },
  {
   "cell_type": "code",
   "execution_count": 9,
   "id": "9d45ab1a-d046-4ec3-bfb7-c825b6ea856d",
   "metadata": {},
   "outputs": [],
   "source": [
    "smaller_df = smaller_df.drop(columns=['original_plot_id'])"
   ]
  },
  {
   "cell_type": "code",
   "execution_count": 10,
   "id": "9a388d69-1d37-446d-bb86-3478562b0295",
   "metadata": {},
   "outputs": [],
   "source": [
    "smaller_df['Strata'] = 99"
   ]
  },
  {
   "cell_type": "code",
   "execution_count": 11,
   "id": "e2c5351d-4d1c-4320-a66b-9d6792f898ef",
   "metadata": {},
   "outputs": [
    {
     "data": {
      "text/html": [
       "<div>\n",
       "<style scoped>\n",
       "    .dataframe tbody tr th:only-of-type {\n",
       "        vertical-align: middle;\n",
       "    }\n",
       "\n",
       "    .dataframe tbody tr th {\n",
       "        vertical-align: top;\n",
       "    }\n",
       "\n",
       "    .dataframe thead th {\n",
       "        text-align: right;\n",
       "    }\n",
       "</style>\n",
       "<table border=\"1\" class=\"dataframe\">\n",
       "  <thead>\n",
       "    <tr style=\"text-align: right;\">\n",
       "      <th></th>\n",
       "      <th>plot_id</th>\n",
       "      <th>x</th>\n",
       "      <th>y</th>\n",
       "      <th>project_id</th>\n",
       "      <th>Strata</th>\n",
       "    </tr>\n",
       "  </thead>\n",
       "  <tbody>\n",
       "    <tr>\n",
       "      <th>24975</th>\n",
       "      <td>24976</td>\n",
       "      <td>1369440</td>\n",
       "      <td>2049600</td>\n",
       "      <td>3130</td>\n",
       "      <td>99</td>\n",
       "    </tr>\n",
       "    <tr>\n",
       "      <th>24980</th>\n",
       "      <td>24981</td>\n",
       "      <td>974190</td>\n",
       "      <td>1610370</td>\n",
       "      <td>3130</td>\n",
       "      <td>99</td>\n",
       "    </tr>\n",
       "    <tr>\n",
       "      <th>24985</th>\n",
       "      <td>24986</td>\n",
       "      <td>-889320</td>\n",
       "      <td>2579040</td>\n",
       "      <td>3130</td>\n",
       "      <td>99</td>\n",
       "    </tr>\n",
       "    <tr>\n",
       "      <th>24990</th>\n",
       "      <td>24991</td>\n",
       "      <td>1668180</td>\n",
       "      <td>1651710</td>\n",
       "      <td>3130</td>\n",
       "      <td>99</td>\n",
       "    </tr>\n",
       "    <tr>\n",
       "      <th>24995</th>\n",
       "      <td>24996</td>\n",
       "      <td>-982140</td>\n",
       "      <td>2025420</td>\n",
       "      <td>3130</td>\n",
       "      <td>99</td>\n",
       "    </tr>\n",
       "  </tbody>\n",
       "</table>\n",
       "</div>"
      ],
      "text/plain": [
       "       plot_id        x        y  project_id  Strata\n",
       "24975    24976  1369440  2049600        3130      99\n",
       "24980    24981   974190  1610370        3130      99\n",
       "24985    24986  -889320  2579040        3130      99\n",
       "24990    24991  1668180  1651710        3130      99\n",
       "24995    24996  -982140  2025420        3130      99"
      ]
     },
     "execution_count": 11,
     "metadata": {},
     "output_type": "execute_result"
    }
   ],
   "source": [
    "smaller_df.tail()"
   ]
  },
  {
   "cell_type": "code",
   "execution_count": 12,
   "id": "39def027-b110-44e4-ad53-a94f0cb4f918",
   "metadata": {},
   "outputs": [],
   "source": [
    "smaller_df = smaller_df.reset_index(drop=True)"
   ]
  },
  {
   "cell_type": "code",
   "execution_count": 15,
   "id": "1a3a29fe-2079-4c94-9770-c0dacfdd8d97",
   "metadata": {},
   "outputs": [],
   "source": [
    "smaller_df.to_csv('b4_danika_5000.csv', index=False)"
   ]
  },
  {
   "cell_type": "code",
   "execution_count": null,
   "id": "40d3ff39-0c43-48c4-8e20-fe4b62192218",
   "metadata": {},
   "outputs": [],
   "source": []
  }
 ],
 "metadata": {
  "kernelspec": {
   "display_name": "Python 3 (ipykernel)",
   "language": "python",
   "name": "python3"
  },
  "language_info": {
   "codemirror_mode": {
    "name": "ipython",
    "version": 3
   },
   "file_extension": ".py",
   "mimetype": "text/x-python",
   "name": "python",
   "nbconvert_exporter": "python",
   "pygments_lexer": "ipython3",
   "version": "3.11.6"
  }
 },
 "nbformat": 4,
 "nbformat_minor": 5
}
