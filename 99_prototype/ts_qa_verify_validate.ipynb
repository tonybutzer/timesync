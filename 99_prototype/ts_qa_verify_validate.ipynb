{
 "cells": [
  {
   "cell_type": "code",
   "execution_count": 1,
   "id": "fca98ea4-7b0b-4388-bfc5-d35e459e3c00",
   "metadata": {},
   "outputs": [],
   "source": [
    "# qa verify and validate"
   ]
  },
  {
   "cell_type": "code",
   "execution_count": 3,
   "id": "4b0f575f-c37e-4856-9c67-5892756d95f9",
   "metadata": {},
   "outputs": [],
   "source": [
    "global QA_OBJ"
   ]
  },
  {
   "cell_type": "code",
   "execution_count": 4,
   "id": "a86735fe-8eec-48f6-a2f4-ba8d81abd49c",
   "metadata": {},
   "outputs": [],
   "source": [
    "class QA:\n",
    "    def __init__(self):\n",
    "        # You can initialize any necessary attributes here\n",
    "        pass\n",
    "\n",
    "    def save_groups(self, groups_data):\n",
    "        \"\"\"\n",
    "        Save groups data.\n",
    "\n",
    "        Parameters:\n",
    "        - groups_data: Data to be saved for groups.\n",
    "        \"\"\"\n",
    "        # Implement the logic to save groups data\n",
    "        pass\n",
    "\n",
    "    def save_qa_rejects(self, rejects_data):\n",
    "        \"\"\"\n",
    "        Save QA rejects data.\n",
    "\n",
    "        Parameters:\n",
    "        - rejects_data: Data to be saved for QA rejects.\n",
    "        \"\"\"\n",
    "        # Implement the logic to save QA rejects data\n",
    "        pass\n",
    "\n",
    "# Example Usage:\n",
    "# qa_instance = QA()\n",
    "# qa_instance.save_groups(groups_data)\n",
    "# qa_instance.save_qa_rejects(rejects_data)\n"
   ]
  },
  {
   "cell_type": "code",
   "execution_count": 5,
   "id": "01040a88-d6e6-4a2d-bfe0-a2b1cfc8c840",
   "metadata": {},
   "outputs": [],
   "source": [
    "def pickle_groups(year, plot, groups):\n",
    "    print(plot)\n",
    "    print(plot.plot_id)\n",
    "\n",
    "    number_str = str(plot.plot_id).zfill(4)\n",
    "    fn = f'/efs/timesync/{year}/audit/{year}_{number_str}_{plot.project_id}.p'\n",
    "    dirn = f'/efs/timesync/{year}/audit/'\n",
    "    create_directory(dirn)\n",
    "    pickle_to_efs(groups,fn)\n"
   ]
  },
  {
   "cell_type": "code",
   "execution_count": null,
   "id": "5c0621b0-eb19-44bd-a6e4-81b5bbb10140",
   "metadata": {},
   "outputs": [],
   "source": [
    "def save_qa_rejects(year,plot):\n",
    "\n",
    "    number_str = str(plot.plot_id).zfill(4)\n",
    "    fn = f'/efs/timesync/{year}/audit/{year}_{number_str}_{plot.project_id}_qa_rejects.p'\n",
    "\n",
    "    qa_rejects = get_qa_rejects_list()\n",
    "    pickle_to_efs(qa_rejects, fn)\n"
   ]
  }
 ],
 "metadata": {
  "kernelspec": {
   "display_name": "Python 3 (ipykernel)",
   "language": "python",
   "name": "python3"
  },
  "language_info": {
   "codemirror_mode": {
    "name": "ipython",
    "version": 3
   },
   "file_extension": ".py",
   "mimetype": "text/x-python",
   "name": "python",
   "nbconvert_exporter": "python",
   "pygments_lexer": "ipython3",
   "version": "3.11.7"
  }
 },
 "nbformat": 4,
 "nbformat_minor": 5
}
