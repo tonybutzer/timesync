{
 "cells": [
  {
   "cell_type": "markdown",
   "id": "e14d04b5-61e8-4759-92af-da069e6fc387",
   "metadata": {},
   "source": [
    "# Verify"
   ]
  },
  {
   "cell_type": "code",
   "execution_count": 1,
   "id": "e9e0746b-2f09-4447-bc5d-c2e341b72e11",
   "metadata": {},
   "outputs": [],
   "source": [
    "import pickle\n",
    "from datetime import datetime"
   ]
  },
  {
   "cell_type": "code",
   "execution_count": 2,
   "id": "5d57b90a-c5f4-4da4-8eb0-36ade569b6c5",
   "metadata": {},
   "outputs": [
    {
     "name": "stdout",
     "output_type": "stream",
     "text": [
      "10_spectral_files_set_1984_116.csv  2_spectral_files_set_1984_134.csv\n",
      "10_spectral_files_set_1984_132.csv  2_spectral_files_set_1984_150.csv\n",
      "10_spectral_files_set_1984_164.csv  2_spectral_files_set_1984_166.csv\n",
      "11_spectral_files_set_1984_146.csv  2_spectral_files_set_1984_182.csv\n",
      "11_spectral_files_set_1984_162.csv  2_spectral_files_set_1984_198.csv\n",
      "11_spectral_files_set_1984_178.csv  2_spectral_files_set_1984_262.csv\n",
      "11_spectral_files_set_1984_210.csv  2_spectral_files_set_1984_278.csv\n",
      "11_spectral_files_set_1984_338.csv  2_spectral_files_set_1984_310.csv\n",
      "11_spectral_files_set_1984_354.csv  2_spectral_files_set_1984_326.csv\n",
      "12_spectral_files_set_1984_109.csv  2_spectral_files_set_1984_342.csv\n",
      "12_spectral_files_set_1984_141.csv  2_spectral_files_set_1984_358.csv\n",
      "12_spectral_files_set_1984_173.csv  3_spectral_files_set_1984_103.csv\n",
      "12_spectral_files_set_1984_189.csv  3_spectral_files_set_1984_135.csv\n",
      "12_spectral_files_set_1984_253.csv  3_spectral_files_set_1984_167.csv\n",
      "12_spectral_files_set_1984_285.csv  3_spectral_files_set_1984_183.csv\n",
      "12_spectral_files_set_1984_317.csv  3_spectral_files_set_1984_199.csv\n",
      "12_spectral_files_set_1984_333.csv  3_spectral_files_set_1984_231.csv\n",
      "12_spectral_files_set_1984_349.csv  3_spectral_files_set_1984_240.csv\n",
      "12_spectral_files_set_1984_365.csv  3_spectral_files_set_1984_247.csv\n",
      "13_spectral_files_set_1984_108.csv  3_spectral_files_set_1984_256.csv\n",
      "13_spectral_files_set_1984_140.csv  3_spectral_files_set_1984_263.csv\n",
      "13_spectral_files_set_1984_156.csv  3_spectral_files_set_1984_272.csv\n",
      "13_spectral_files_set_1984_172.csv  3_spectral_files_set_1984_327.csv\n",
      "13_spectral_files_set_1984_188.csv  3_spectral_files_set_1984_343.csv\n",
      "13_spectral_files_set_1984_252.csv  3_spectral_files_set_1984_359.csv\n",
      "13_spectral_files_set_1984_268.csv  4_spectral_files_set_1984_146.csv\n",
      "13_spectral_files_set_1984_300.csv  4_spectral_files_set_1984_162.csv\n",
      "13_spectral_files_set_1984_332.csv  4_spectral_files_set_1984_178.csv\n",
      "13_spectral_files_set_1984_364.csv  4_spectral_files_set_1984_242.csv\n",
      "14_spectral_files_set_1984_124.csv  4_spectral_files_set_1984_306.csv\n",
      "14_spectral_files_set_1984_140.csv  4_spectral_files_set_1984_338.csv\n",
      "14_spectral_files_set_1984_156.csv  5_spectral_files_set_1984_109.csv\n",
      "14_spectral_files_set_1984_172.csv  5_spectral_files_set_1984_118.csv\n",
      "14_spectral_files_set_1984_188.csv  5_spectral_files_set_1984_134.csv\n",
      "14_spectral_files_set_1984_252.csv  5_spectral_files_set_1984_141.csv\n",
      "14_spectral_files_set_1984_332.csv  5_spectral_files_set_1984_150.csv\n",
      "14_spectral_files_set_1984_348.csv  5_spectral_files_set_1984_157.csv\n",
      "14_spectral_files_set_1984_364.csv  5_spectral_files_set_1984_166.csv\n",
      "15_spectral_files_set_1984_155.csv  5_spectral_files_set_1984_173.csv\n",
      "15_spectral_files_set_1984_171.csv  5_spectral_files_set_1984_182.csv\n",
      "15_spectral_files_set_1984_251.csv  5_spectral_files_set_1984_189.csv\n",
      "15_spectral_files_set_1984_267.csv  5_spectral_files_set_1984_198.csv\n",
      "15_spectral_files_set_1984_283.csv  5_spectral_files_set_1984_221.csv\n",
      "15_spectral_files_set_1984_315.csv  5_spectral_files_set_1984_278.csv\n",
      "15_spectral_files_set_1984_347.csv  5_spectral_files_set_1984_301.csv\n",
      "15_spectral_files_set_1984_363.csv  5_spectral_files_set_1984_333.csv\n",
      "16_spectral_files_set_1984_164.csv  5_spectral_files_set_1984_342.csv\n",
      "16_spectral_files_set_1984_180.csv  5_spectral_files_set_1984_349.csv\n",
      "16_spectral_files_set_1984_244.csv  6_spectral_files_set_1984_107.csv\n",
      "16_spectral_files_set_1984_308.csv  6_spectral_files_set_1984_123.csv\n",
      "16_spectral_files_set_1984_324.csv  6_spectral_files_set_1984_139.csv\n",
      "1_spectral_files_set_1984_075.csv   6_spectral_files_set_1984_155.csv\n",
      "1_spectral_files_set_1984_108.csv   6_spectral_files_set_1984_187.csv\n",
      "1_spectral_files_set_1984_124.csv   6_spectral_files_set_1984_347.csv\n",
      "1_spectral_files_set_1984_131.csv   7_spectral_files_set_1984_128.csv\n",
      "1_spectral_files_set_1984_140.csv   7_spectral_files_set_1984_144.csv\n",
      "1_spectral_files_set_1984_147.csv   7_spectral_files_set_1984_160.csv\n",
      "1_spectral_files_set_1984_156.csv   7_spectral_files_set_1984_192.csv\n",
      "1_spectral_files_set_1984_163.csv   7_spectral_files_set_1984_288.csv\n",
      "1_spectral_files_set_1984_172.csv   7_spectral_files_set_1984_304.csv\n",
      "1_spectral_files_set_1984_179.csv   7_spectral_files_set_1984_336.csv\n",
      "1_spectral_files_set_1984_188.csv   7_spectral_files_set_1984_352.csv\n",
      "1_spectral_files_set_1984_195.csv   8_spectral_files_set_1984_107.csv\n",
      "1_spectral_files_set_1984_211.csv   8_spectral_files_set_1984_116.csv\n",
      "1_spectral_files_set_1984_227.csv   8_spectral_files_set_1984_155.csv\n",
      "1_spectral_files_set_1984_291.csv   8_spectral_files_set_1984_164.csv\n",
      "1_spectral_files_set_1984_323.csv   8_spectral_files_set_1984_171.csv\n",
      "1_spectral_files_set_1984_339.csv   8_spectral_files_set_1984_180.csv\n",
      "1_spectral_files_set_1984_355.csv   8_spectral_files_set_1984_187.csv\n",
      "1_spectral_files_set_1984_364.csv   8_spectral_files_set_1984_196.csv\n",
      "24_spectral_files_set_1984_103.csv  8_spectral_files_set_1984_244.csv\n",
      "24_spectral_files_set_1984_135.csv  8_spectral_files_set_1984_251.csv\n",
      "24_spectral_files_set_1984_167.csv  8_spectral_files_set_1984_267.csv\n",
      "24_spectral_files_set_1984_183.csv  8_spectral_files_set_1984_308.csv\n",
      "24_spectral_files_set_1984_231.csv  8_spectral_files_set_1984_324.csv\n",
      "24_spectral_files_set_1984_247.csv  9_spectral_files_set_1984_083.csv\n",
      "24_spectral_files_set_1984_263.csv  9_spectral_files_set_1984_136.csv\n",
      "24_spectral_files_set_1984_279.csv  9_spectral_files_set_1984_143.csv\n",
      "24_spectral_files_set_1984_295.csv  9_spectral_files_set_1984_159.csv\n",
      "24_spectral_files_set_1984_311.csv  b432\n",
      "24_spectral_files_set_1984_327.csv  b743\n",
      "24_spectral_files_set_1984_359.csv  tc\n",
      "2_spectral_files_set_1984_118.csv\n"
     ]
    }
   ],
   "source": [
    "!ls /efs/timesync/1984/prj_1211/"
   ]
  },
  {
   "cell_type": "code",
   "execution_count": 3,
   "id": "e803d97f-24c0-4ba8-ba97-74a7e5133085",
   "metadata": {},
   "outputs": [
    {
     "name": "stdout",
     "output_type": "stream",
     "text": [
      "1984_0001_1211.p\t     1984_0008_1211_qa_rejects.p\n",
      "1984_0001_1211_qa_rejects.p  1984_0009_1211.p\n",
      "1984_0002_1211.p\t     1984_0010_1211.p\n",
      "1984_0002_1211_qa_rejects.p  1984_0011_1211.p\n",
      "1984_0002_3132.p\t     1984_0011_1211_qa_rejects.p\n",
      "1984_0002_3132_qa_rejects.p  1984_0012_1211.p\n",
      "1984_0003_1211.p\t     1984_0012_1211_qa_rejects.p\n",
      "1984_0003_1211_qa_rejects.p  1984_0013_1211.p\n",
      "1984_0004_1211.p\t     1984_0013_1211_qa_rejects.p\n",
      "1984_0004_1211_qa_rejects.p  1984_0014_1211.p\n",
      "1984_0005_1211.p\t     1984_0014_1211_qa_rejects.p\n",
      "1984_0005_1211_qa_rejects.p  1984_0015_1211.p\n",
      "1984_0006_1211.p\t     1984_0015_1211_qa_rejects.p\n",
      "1984_0006_1211_qa_rejects.p  1984_0016_1211.p\n",
      "1984_0007_1211.p\t     1984_0016_1211_qa_rejects.p\n",
      "1984_0007_1211_qa_rejects.p  1984_0024_1211.p\n",
      "1984_0008_1211.p\t     1984_0024_1211_qa_rejects.p\n"
     ]
    }
   ],
   "source": [
    "!ls /efs/timesync/1984/audit/"
   ]
  },
  {
   "cell_type": "code",
   "execution_count": 4,
   "id": "c29b5016-9bbf-4cfe-bcd4-b5065d672f5e",
   "metadata": {},
   "outputs": [],
   "source": [
    "\n",
    "def load_object_from_pickle(file_path):\n",
    "    \"\"\"\n",
    "    Load a Python object from a pickle file.\n",
    "\n",
    "    Parameters:\n",
    "    - file_path (str): The path to the pickle file.\n",
    "\n",
    "    Returns:\n",
    "    - object: The deserialized Python object.\n",
    "    \"\"\"\n",
    "    try:\n",
    "        with open(file_path, 'rb') as file:\n",
    "            obj = pickle.load(file)\n",
    "        return obj\n",
    "    except FileNotFoundError:\n",
    "        print(f\"Error: File '{file_path}' not found.\")\n",
    "        return None\n",
    "    except Exception as e:\n",
    "        print(f\"Error: Failed to load object from '{file_path}'.\")\n",
    "        print(f\"Details: {e}\")\n",
    "        return None\n",
    "\n",
    "\n"
   ]
  },
  {
   "cell_type": "code",
   "execution_count": 5,
   "id": "4a48cf94-b749-4342-af0d-3a2041ea7e2b",
   "metadata": {},
   "outputs": [],
   "source": [
    "def expected_days_from(groups):\n",
    "    expected_file_days = []\n",
    "    for g in groups:\n",
    "        #print(len(g))\n",
    "        #print(g[0].keys())\n",
    "        # print(g[0]['properties']['datetime'])\n",
    "        date_string = g[0]['properties']['datetime']\n",
    "        date_string = date_string.split('T')[0]\n",
    "        dt_object = datetime.strptime(date_string, '%Y-%m-%d')\n",
    "        day_of_year = dt_object.timetuple().tm_yday\n",
    "        #print (day_of_year)\n",
    "        expected_file_days.append(day_of_year)\n",
    "\n",
    "    return expected_file_days"
   ]
  },
  {
   "cell_type": "code",
   "execution_count": 7,
   "id": "d1e6b4ef-2cad-4e43-9608-cb918d27b55b",
   "metadata": {},
   "outputs": [
    {
     "name": "stdout",
     "output_type": "stream",
     "text": [
      "<class 'list'>\n",
      "[75, 108, 122, 124, 131, 140, 147, 154, 156, 163, 170, 172, 179, 186, 188, 195, 202, 211, 227, 266, 291, 298, 307, 314, 323, 332, 339, 346, 355, 364]\n"
     ]
    }
   ],
   "source": [
    "# Example usage:\n",
    "file_path = '/efs/timesync/1984/audit/1984_0001_1211.p'\n",
    "\n",
    "loaded_object = load_object_from_pickle(file_path)\n",
    "\n",
    "print(type(loaded_object))\n",
    "if loaded_object is not None:\n",
    "   # print(f\"Object loaded successfully: {loaded_object}\")\n",
    "    file_days = expected_days_from(loaded_object)\n",
    "    print(file_days)\n",
    "else:\n",
    "    print(\"Failed to load object.\")"
   ]
  },
  {
   "cell_type": "code",
   "execution_count": 11,
   "id": "fcb87811-75a0-43c3-82f1-53a45a5eb06f",
   "metadata": {},
   "outputs": [],
   "source": [
    "def reject_days_from(reject_dates):\n",
    "    reject_days = []\n",
    "    for date_string in reject_dates:\n",
    "        \n",
    "        date_string = date_string.split('T')[0]\n",
    "        dt_object = datetime.strptime(date_string, '%Y-%m-%d')\n",
    "        day_of_year = dt_object.timetuple().tm_yday\n",
    "        #print (day_of_year)\n",
    "        reject_days.append(day_of_year)\n",
    "\n",
    "    return reject_days"
   ]
  },
  {
   "cell_type": "code",
   "execution_count": 13,
   "id": "22ae5789-2001-4522-bca7-ef172f2532aa",
   "metadata": {},
   "outputs": [
    {
     "name": "stdout",
     "output_type": "stream",
     "text": [
      "<class 'list'>\n",
      "[122, 154, 170, 186, 202, 266, 298, 307, 314, 332, 346]\n"
     ]
    }
   ],
   "source": [
    "\n",
    "file_path = '/efs/timesync/1984/audit/1984_0001_1211_qa_rejects.p'\n",
    "loaded_object = load_object_from_pickle(file_path)\n",
    "print(type(loaded_object))\n",
    "if loaded_object is not None:\n",
    "    #print(loaded_object)\n",
    "    reject_days=reject_days_from(loaded_object)\n",
    "    print(reject_days)\n",
    "else:\n",
    "    print(\"Failed to load object.\")"
   ]
  },
  {
   "cell_type": "code",
   "execution_count": 14,
   "id": "f65c59f6-fe1e-435f-be51-0550f9225630",
   "metadata": {},
   "outputs": [
    {
     "name": "stdout",
     "output_type": "stream",
     "text": [
      "[1, 2]\n"
     ]
    }
   ],
   "source": [
    "def elements_not_in_second_list(list1, list2):\n",
    "    \"\"\"\n",
    "    Return a new list containing elements from the first list\n",
    "    that are not present in the second list.\n",
    "\n",
    "    Parameters:\n",
    "    - list1 (list): The first list.\n",
    "    - list2 (list): The second list.\n",
    "\n",
    "    Returns:\n",
    "    - list: A new list containing elements from list1 not in list2.\n",
    "    \"\"\"\n",
    "    return [element for element in list1 if element not in list2]\n",
    "\n",
    "\n"
   ]
  },
  {
   "cell_type": "code",
   "execution_count": 16,
   "id": "524de59c-0914-4618-b298-ebddb9b1a164",
   "metadata": {},
   "outputs": [
    {
     "name": "stdout",
     "output_type": "stream",
     "text": [
      "[75, 108, 124, 131, 140, 147, 156, 163, 172, 179, 188, 195, 211, 227, 291, 323, 339, 355, 364]\n"
     ]
    }
   ],
   "source": [
    "# Example usage:\n",
    "list1 = file_days\n",
    "list2 = reject_days\n",
    "\n",
    "result_list = elements_not_in_second_list(list1, list2)\n",
    "print(result_list)"
   ]
  },
  {
   "cell_type": "code",
   "execution_count": null,
   "id": "cc9045e9-3462-4584-8310-9b765f255d5a",
   "metadata": {},
   "outputs": [],
   "source": []
  }
 ],
 "metadata": {
  "kernelspec": {
   "display_name": "Python 3 (ipykernel)",
   "language": "python",
   "name": "python3"
  },
  "language_info": {
   "codemirror_mode": {
    "name": "ipython",
    "version": 3
   },
   "file_extension": ".py",
   "mimetype": "text/x-python",
   "name": "python",
   "nbconvert_exporter": "python",
   "pygments_lexer": "ipython3",
   "version": "3.11.7"
  }
 },
 "nbformat": 4,
 "nbformat_minor": 5
}
