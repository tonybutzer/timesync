{
 "cells": [
  {
   "cell_type": "code",
   "execution_count": null,
   "id": "108ddf7a-5d3d-4b33-9bc3-917213d77521",
   "metadata": {},
   "outputs": [],
   "source": [
    "#! aws s3 rm s3://dev-nlcd-developer/junk5/ --recur "
   ]
  },
  {
   "cell_type": "code",
   "execution_count": null,
   "id": "cc5e64f7-0c00-4714-b5fe-12902e66c9e8",
   "metadata": {},
   "outputs": [],
   "source": [
    "# Python AWS and GDAL BS\n",
    "import os\n",
    "\n",
    "os.environ['AWS_REQUEST_PAYER'] = 'requester'\n",
    "os.environ['GDAL_DISABLE_READDIR_ON_OPEN']='EMPTY_DIR'\n",
    "os.environ['GDAL_HTTP_MAX_RETRY']='10'\n",
    "os.environ['GDAL_HTTP_RETRY_DELAY']='3'\n",
    "os.environ['GDAL_PAM_ENABLED']='NO'\n"
   ]
  },
  {
   "cell_type": "code",
   "execution_count": null,
   "id": "c9781419-c534-4383-85b4-9cdece0b3708",
   "metadata": {},
   "outputs": [],
   "source": [
    "from functools import partial, reduce, wraps\n",
    "from typing import List, Tuple, Optional, Any, Callable, Iterable\n",
    "\n",
    "import pandas as pd"
   ]
  },
  {
   "cell_type": "code",
   "execution_count": null,
   "id": "b9e869dc-a5bb-434d-8ee9-e2dca161eaf6",
   "metadata": {},
   "outputs": [],
   "source": [
    "from ts_process_group import stac_records_for_plot, group_records\n",
    "from ts_process_group import process_group"
   ]
  },
  {
   "cell_type": "code",
   "execution_count": null,
   "id": "b9cacd24-cc93-4f5f-aa18-2d2d318df5bc",
   "metadata": {},
   "outputs": [],
   "source": [
    "from ts_log_stuff import format_plot_data, log_file_name"
   ]
  },
  {
   "cell_type": "code",
   "execution_count": null,
   "id": "3538f6f6-79c7-4a88-a207-77ac3adf84d3",
   "metadata": {},
   "outputs": [],
   "source": [
    "def process_plot(plot: Tuple[Any, ...], params: dict) -> None:\n",
    "    \"\"\"\n",
    "    Process an individual plot\n",
    "    \"\"\"\n",
    "    print('called process_plot')\n",
    "    groups = group_records(stac_records_for_plot(plot, params))\n",
    "    for group in groups:\n",
    "        process_group(group, plot, params)\n"
   ]
  },
  {
   "cell_type": "code",
   "execution_count": null,
   "id": "14aa861a-8402-4958-9a53-4cf703a09e81",
   "metadata": {},
   "outputs": [],
   "source": [
    "def process_on_local(project_dir, plot_file, region, chip_size, year):\n",
    "    \"\"\"\n",
    "    Local single-threaded processing\n",
    "    \"\"\"\n",
    "        \n",
    "    params = {\n",
    "        'project_dir': project_dir, \n",
    "        'plot_file': plot_file, \n",
    "        'region': region, \n",
    "        'chip_size': chip_size,\n",
    "        'year': year\n",
    "    }\n",
    "    \n",
    "    plots_df = format_plot_data(plot_file)\n",
    "  \n",
    "    for plot in plots_df.itertuples():\n",
    "        print(plot)\n",
    "        process_plot(plot, params)"
   ]
  },
  {
   "cell_type": "code",
   "execution_count": null,
   "id": "7c185a8e-7710-4b1a-852f-c70547fd5f3a",
   "metadata": {},
   "outputs": [],
   "source": [
    "def timesync_data_extraction(project_dir, plot_file, region, chip_size, year):\n",
    "    \"\"\"\n",
    "    Run TimeSync data extraction\n",
    "    \"\"\"\n",
    "    process_on_local(project_dir, plot_file, region, chip_size, year)"
   ]
  },
  {
   "cell_type": "code",
   "execution_count": null,
   "id": "5d1f701f-05b4-4a2c-9da9-b7d0cee23f9e",
   "metadata": {},
   "outputs": [],
   "source": [
    "config_params = {\n",
    "    'project_dir': 's3://dev-nlcd-developer/junk8/timesync/', \n",
    "    'plot_file': './PlotList.csv', \n",
    "    'region': 'CU', \n",
    "    'chip_size': [255, 255],\n",
    "    'year': 1990\n",
    "}"
   ]
  },
  {
   "cell_type": "code",
   "execution_count": null,
   "id": "ad0a7545-2bc7-4333-9071-32c9a332a138",
   "metadata": {},
   "outputs": [],
   "source": [
    "timesync_data_extraction(**config_params)  # docker and the cluster will not need dask"
   ]
  },
  {
   "cell_type": "code",
   "execution_count": null,
   "id": "84513c63-93e7-47bb-b726-836441d33060",
   "metadata": {},
   "outputs": [],
   "source": [
    "#! head -11 TxL2Test_PlotList.csv >10lines_PlotList.csv\n",
    "! cat PlotList.csv"
   ]
  },
  {
   "cell_type": "code",
   "execution_count": null,
   "id": "9d93c269-7b77-4a2b-895d-144b878f8039",
   "metadata": {},
   "outputs": [],
   "source": [
    "plot_file = 'PlotList.csv'\n",
    "plots_df = format_plot_data(plot_file)"
   ]
  },
  {
   "cell_type": "code",
   "execution_count": null,
   "id": "6a0ec271-5034-4588-95aa-86c4ae8e79f9",
   "metadata": {},
   "outputs": [],
   "source": [
    "type (plots_df)"
   ]
  },
  {
   "cell_type": "code",
   "execution_count": null,
   "id": "3fd145f2-1bd4-41d6-8c32-4d2ce201275d",
   "metadata": {},
   "outputs": [],
   "source": [
    "plots_df.head()"
   ]
  },
  {
   "cell_type": "code",
   "execution_count": null,
   "id": "09b9f9e5-73bb-41d8-9d9d-beb3bbb55f5a",
   "metadata": {},
   "outputs": [],
   "source": [
    "for plot in plots_df.itertuples():\n",
    "    print(plot)"
   ]
  },
  {
   "cell_type": "code",
   "execution_count": null,
   "id": "5c7c52c6-813d-4b86-abf5-5e3a2c83ae88",
   "metadata": {},
   "outputs": [],
   "source": [
    "type(plot)"
   ]
  },
  {
   "cell_type": "code",
   "execution_count": null,
   "id": "73aed8f6-a0f1-4571-80ff-fa87a15edd4c",
   "metadata": {},
   "outputs": [],
   "source": [
    "plot.x"
   ]
  },
  {
   "cell_type": "code",
   "execution_count": null,
   "id": "7b9455a7-ad4f-4f98-9808-4edf22e9deb2",
   "metadata": {},
   "outputs": [],
   "source": []
  }
 ],
 "metadata": {
  "kernelspec": {
   "display_name": "Python 3 (ipykernel)",
   "language": "python",
   "name": "python3"
  },
  "language_info": {
   "codemirror_mode": {
    "name": "ipython",
    "version": 3
   },
   "file_extension": ".py",
   "mimetype": "text/x-python",
   "name": "python",
   "nbconvert_exporter": "python",
   "pygments_lexer": "ipython3",
   "version": "3.11.6"
  }
 },
 "nbformat": 4,
 "nbformat_minor": 5
}
