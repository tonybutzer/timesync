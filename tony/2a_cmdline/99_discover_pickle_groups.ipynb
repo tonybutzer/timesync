{
 "cells": [
  {
   "cell_type": "code",
   "execution_count": 3,
   "id": "24bdf2a9-ef60-4f39-b12a-c3dda13f7467",
   "metadata": {},
   "outputs": [
    {
     "name": "stdout",
     "output_type": "stream",
     "text": [
      "2023-11-29 01:01:20     573022 1998_0001_3132.p\n"
     ]
    }
   ],
   "source": [
    "! aws s3 ls dev-nlcd-developer/timesync/audit/"
   ]
  },
  {
   "cell_type": "code",
   "execution_count": 29,
   "id": "c388a707-c4d6-49ff-a579-c875654c6274",
   "metadata": {},
   "outputs": [],
   "source": [
    "import boto3\n",
    "import pickle\n",
    "from datetime import datetime"
   ]
  },
  {
   "cell_type": "code",
   "execution_count": 8,
   "id": "28ef83ac-ddf3-41ca-a8d3-2b57881d6be8",
   "metadata": {},
   "outputs": [],
   "source": [
    "s3 = boto3.resource('s3')\n",
    "source_bucket = \"dev-nlcd-developer\"\n",
    "key = \"timesync/audit/1998_0001_3132.p\"\n",
    "response = s3.Bucket(source_bucket).Object(key).get()\n",
    "body_string = response['Body'].read()\n",
    "try:\n",
    "    groups = pickle.loads(body_string)\n",
    "except Exception as e:\n",
    "    print(e)"
   ]
  },
  {
   "cell_type": "code",
   "execution_count": 9,
   "id": "e2922d78-9b0d-4548-8cbc-70e590355293",
   "metadata": {},
   "outputs": [
    {
     "data": {
      "text/plain": [
       "list"
      ]
     },
     "execution_count": 9,
     "metadata": {},
     "output_type": "execute_result"
    }
   ],
   "source": [
    "type(groups)"
   ]
  },
  {
   "cell_type": "code",
   "execution_count": 11,
   "id": "5b7ce911-e6ac-4768-a814-e45e10907a06",
   "metadata": {},
   "outputs": [
    {
     "data": {
      "text/plain": [
       "dict"
      ]
     },
     "execution_count": 11,
     "metadata": {},
     "output_type": "execute_result"
    }
   ],
   "source": [
    "type(groups[0][0])"
   ]
  },
  {
   "cell_type": "code",
   "execution_count": 12,
   "id": "5f869108-77fa-4838-bc9d-e94df12fd198",
   "metadata": {},
   "outputs": [
    {
     "data": {
      "text/plain": [
       "37"
      ]
     },
     "execution_count": 12,
     "metadata": {},
     "output_type": "execute_result"
    }
   ],
   "source": [
    "len(groups)"
   ]
  },
  {
   "cell_type": "code",
   "execution_count": 33,
   "id": "300e66eb-7ed5-421d-b82d-4ded1869dcdd",
   "metadata": {},
   "outputs": [
    {
     "name": "stdout",
     "output_type": "stream",
     "text": [
      "6\n",
      "15\n",
      "22\n",
      "31\n",
      "38\n",
      "47\n",
      "54\n",
      "63\n",
      "70\n",
      "79\n",
      "95\n",
      "111\n",
      "118\n",
      "134\n",
      "143\n",
      "150\n",
      "159\n",
      "166\n",
      "182\n",
      "191\n",
      "198\n",
      "207\n",
      "214\n",
      "223\n",
      "230\n",
      "239\n",
      "246\n",
      "255\n",
      "262\n",
      "271\n",
      "278\n",
      "287\n",
      "294\n",
      "303\n",
      "319\n",
      "326\n",
      "335\n"
     ]
    }
   ],
   "source": [
    "for g in groups:\n",
    "    #print(len(g))\n",
    "    #print(g[0].keys())\n",
    "    # print(g[0]['properties']['datetime'])\n",
    "    date_string = g[0]['properties']['datetime']\n",
    "    date_string = date_string.split('T')[0]\n",
    "    dt_object = datetime.strptime(date_string, '%Y-%m-%d')\n",
    "    day_of_year = dt_object.timetuple().tm_yday\n",
    "    print (day_of_year)"
   ]
  },
  {
   "cell_type": "code",
   "execution_count": 27,
   "id": "d768e154-938c-4c3b-829a-c3850815215d",
   "metadata": {},
   "outputs": [
    {
     "data": {
      "text/plain": [
       "'1998-01-06T17:01:49.4740000Z'"
      ]
     },
     "execution_count": 27,
     "metadata": {},
     "output_type": "execute_result"
    }
   ],
   "source": [
    "g[0]['properties']['datetime']"
   ]
  },
  {
   "cell_type": "code",
   "execution_count": 28,
   "id": "4e8118a3-5469-4b92-abf8-1e877fe2b089",
   "metadata": {},
   "outputs": [
    {
     "data": {
      "text/plain": [
       "str"
      ]
     },
     "execution_count": 28,
     "metadata": {},
     "output_type": "execute_result"
    }
   ],
   "source": [
    "type(g[0]['properties']['datetime'])"
   ]
  },
  {
   "cell_type": "code",
   "execution_count": null,
   "id": "6c9ebce2-3b91-4b7c-8dff-1d08e6d79743",
   "metadata": {},
   "outputs": [],
   "source": []
  }
 ],
 "metadata": {
  "kernelspec": {
   "display_name": "Python 3 (ipykernel)",
   "language": "python",
   "name": "python3"
  },
  "language_info": {
   "codemirror_mode": {
    "name": "ipython",
    "version": 3
   },
   "file_extension": ".py",
   "mimetype": "text/x-python",
   "name": "python",
   "nbconvert_exporter": "python",
   "pygments_lexer": "ipython3",
   "version": "3.11.6"
  }
 },
 "nbformat": 4,
 "nbformat_minor": 5
}
