{
 "cells": [
  {
   "cell_type": "markdown",
   "id": "c22baa32-37b0-48b4-a659-bd260af9ecb9",
   "metadata": {},
   "source": [
    "# Monitoring\n",
    "\n",
    "- want to monitor nodes with boto 3 describe instances\n",
    "- want to monitor slurm\n",
    "- want to monitor docker\n",
    "- want to monitor outputs\n",
    "\n",
    "all of these on ascii terminal\n",
    "\n",
    "all will likely use dataframes\n",
    "\n",
    "... therefore i need way to pretty print df \n",
    "\n",
    "enter tabulate\n",
    "like need to install this in water\n",
    "\n",
    "\n"
   ]
  },
  {
   "cell_type": "markdown",
   "id": "da6f83e5-c187-4887-9f18-e2225da2c005",
   "metadata": {},
   "source": [
    "- https://medium.com/@HeCanThink/tabulate-your-go-to-solution-for-stylish-tables-in-python-35ede5145e28"
   ]
  },
  {
   "cell_type": "code",
   "execution_count": 1,
   "id": "83b12428-b7e6-46c4-ad3f-9aabd955aad9",
   "metadata": {},
   "outputs": [
    {
     "ename": "ModuleNotFoundError",
     "evalue": "No module named 'tabulate'",
     "output_type": "error",
     "traceback": [
      "\u001b[0;31m---------------------------------------------------------------------------\u001b[0m",
      "\u001b[0;31mModuleNotFoundError\u001b[0m                       Traceback (most recent call last)",
      "Cell \u001b[0;32mIn[1], line 1\u001b[0m\n\u001b[0;32m----> 1\u001b[0m \u001b[38;5;28;01mfrom\u001b[39;00m \u001b[38;5;21;01mtabulate\u001b[39;00m \u001b[38;5;28;01mimport\u001b[39;00m tabulate\n\u001b[1;32m      2\u001b[0m data \u001b[38;5;241m=\u001b[39m [\n\u001b[1;32m      3\u001b[0m     [\u001b[38;5;124m\"\u001b[39m\u001b[38;5;124mAlice\u001b[39m\u001b[38;5;124m\"\u001b[39m, \u001b[38;5;241m28\u001b[39m, \u001b[38;5;124m\"\u001b[39m\u001b[38;5;124mEngineer\u001b[39m\u001b[38;5;124m\"\u001b[39m],\n\u001b[1;32m      4\u001b[0m     [\u001b[38;5;124m\"\u001b[39m\u001b[38;5;124mBob\u001b[39m\u001b[38;5;124m\"\u001b[39m, \u001b[38;5;241m24\u001b[39m, \u001b[38;5;124m\"\u001b[39m\u001b[38;5;124mDesigner\u001b[39m\u001b[38;5;124m\"\u001b[39m],\n\u001b[1;32m      5\u001b[0m     [\u001b[38;5;124m\"\u001b[39m\u001b[38;5;124mCharlie\u001b[39m\u001b[38;5;124m\"\u001b[39m, \u001b[38;5;241m32\u001b[39m, \u001b[38;5;124m\"\u001b[39m\u001b[38;5;124mWriter\u001b[39m\u001b[38;5;124m\"\u001b[39m]\n\u001b[1;32m      6\u001b[0m ]\n\u001b[1;32m      7\u001b[0m headers \u001b[38;5;241m=\u001b[39m [\u001b[38;5;124m\"\u001b[39m\u001b[38;5;124mName\u001b[39m\u001b[38;5;124m\"\u001b[39m, \u001b[38;5;124m\"\u001b[39m\u001b[38;5;124mAge\u001b[39m\u001b[38;5;124m\"\u001b[39m, \u001b[38;5;124m\"\u001b[39m\u001b[38;5;124mOccupation\u001b[39m\u001b[38;5;124m\"\u001b[39m]\n",
      "\u001b[0;31mModuleNotFoundError\u001b[0m: No module named 'tabulate'"
     ]
    }
   ],
   "source": [
    "from tabulate import tabulate\n",
    "data = [\n",
    "    [\"Alice\", 28, \"Engineer\"],\n",
    "    [\"Bob\", 24, \"Designer\"],\n",
    "    [\"Charlie\", 32, \"Writer\"]\n",
    "]\n",
    "headers = [\"Name\", \"Age\", \"Occupation\"]\n",
    "table = tabulate(data, headers=headers, tablefmt=\"grid\", numalign=\"center\")\n",
    "print(table)"
   ]
  },
  {
   "cell_type": "markdown",
   "id": "877c64cf-17e6-4899-93bc-90cbeab6c8d4",
   "metadata": {},
   "source": [
    "# more to come ©"
   ]
  },
  {
   "cell_type": "code",
   "execution_count": null,
   "id": "1d020e3a-9254-4cc0-9ddc-d296db76c4c2",
   "metadata": {},
   "outputs": [],
   "source": []
  }
 ],
 "metadata": {
  "kernelspec": {
   "display_name": "Python 3 (ipykernel)",
   "language": "python",
   "name": "python3"
  },
  "language_info": {
   "codemirror_mode": {
    "name": "ipython",
    "version": 3
   },
   "file_extension": ".py",
   "mimetype": "text/x-python",
   "name": "python",
   "nbconvert_exporter": "python",
   "pygments_lexer": "ipython3",
   "version": "3.11.6"
  }
 },
 "nbformat": 4,
 "nbformat_minor": 5
}
